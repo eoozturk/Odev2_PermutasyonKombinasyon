{
  "nbformat": 4,
  "nbformat_minor": 0,
  "metadata": {
    "colab": {
      "name": "Odev2_Permutasyon_Kombinasyon.ipynb",
      "version": "0.3.2",
      "provenance": [],
      "collapsed_sections": [],
      "include_colab_link": true
    },
    "kernelspec": {
      "name": "python3",
      "display_name": "Python 3"
    }
  },
  "cells": [
    {
      "cell_type": "markdown",
      "metadata": {
        "id": "view-in-github",
        "colab_type": "text"
      },
      "source": [
        "<a href=\"https://colab.research.google.com/github/eoozturk/Odev2_PermutasyonKombinasyon/blob/master/Odev2_Permutasyon_Kombinasyon.ipynb\" target=\"_parent\"><img src=\"https://colab.research.google.com/assets/colab-badge.svg\" alt=\"Open In Colab\"/></a>"
      ]
    },
    {
      "metadata": {
        "id": "lNht30cQgKYX",
        "colab_type": "text"
      },
      "cell_type": "markdown",
      "source": [
        "**Soru 1: Permütasyon**\n",
        "\n",
        "BERBERKERTENKELE kelimesindeki harfler yer değiştirilerek anlamlı veya anlamsız 16 harfden oluşan kelimeler oluşturulacaktır. Oluşturulacak olan bu kelimelerin E ile başlayıp R ile bitme olasılığı kaçtır?\n",
        "\n",
        "**Çözüm:**\n",
        "\n",
        "İstenilen Durum: P(A)= 14! / (2!*5!*2!*2!)= 90810720\n",
        "\n",
        "Örnek Uzay: P(B)= 16! / (2!*6!*3!*2!)= 1210809600\n",
        "\n",
        "Olasılık Sonucu: P(A)/P(B)= 0.075\n",
        "\n",
        "**Açıklama:**\n",
        "\n",
        "Tekrarlı Permütasyon = N! / n1!n2!n3!....nn!\n",
        "\n",
        "Kelimelerin E harfi ile başlayıp R ile bitme durumu bu iki harfin çıkarılıp kalan 14 harfin tekrarlı permütasyonu ile  14!/2!x5!x2!x2! şeklinde hesaplanır. Daha sonra örnek uzay tüm harfleri kapsayacak şekilde 16!/2!x6!x3!x2! olarak hesaplanır. Soruda istenilen olasılık sonucu istenilen durumun (Kelimelerin E ile başlayıp R ile bitmesi) örnek uzaya bölünmesi ile bulunur."
      ]
    },
    {
      "metadata": {
        "id": "TwjvlRqOgJDd",
        "colab_type": "code",
        "colab": {
          "base_uri": "https://localhost:8080/",
          "height": 87
        },
        "outputId": "f2c4a8ec-cdae-42d5-b479-47f795e3f4c0"
      },
      "cell_type": "code",
      "source": [
        "#permHesapla fonk. kendisine parametre olarak gönderilen sayının faktöriyelini recursive biçimde hesaplar ve geri döndürür.\n",
        "\n",
        "def permHesapla(n):\n",
        "    if n==1:\n",
        "        return 1\n",
        "    else:\n",
        "        return n * permHesapla(n-1)\n",
        "\n",
        "permDurum= float(permHesapla(14)/(permHesapla(2)*permHesapla(5)*permHesapla(2)*permHesapla(2))) #İstenilen durum, E ve R harflerinin çıkarılması ile tekrarlı permütasyon şeklinde hesaplanır.\n",
        "\n",
        "permOrnekUzay= float(permHesapla(16)/(permHesapla(2)*permHesapla(6)*permHesapla(3)*permHesapla(2))) #Örnek Uzay tüm harflerle birlikte tekrarlı permütasyon şeklinde hesaplanır.\n",
        "\n",
        "olSonuc=float(permDurum/permOrnekUzay) #İstenilen durumun, Örnek Uzaya bölünmesi ile olasılık sonucu hesaplanır.\n",
        "\n",
        "print(\"İstenilen Durum: P(A)= 14! / (2!*5!*2!*2!)= \",permDurum)\n",
        "print(\"Örnek Uzay: P(B)= 16! / (2!*6!*3!*2!)= \",permOrnekUzay)\n",
        "\n",
        "print(\"\\nOlasılık Sonucu: P(A)/P(B)= \", olSonuc)\n"
      ],
      "execution_count": 1,
      "outputs": [
        {
          "output_type": "stream",
          "text": [
            "İstenilen Durum: P(A)= 14! / (2!*5!*2!*2!)=  90810720.0\n",
            "Örnek Uzay: P(B)= 16! / (2!*6!*3!*2!)=  1210809600.0\n",
            "\n",
            "Olasılık Sonucu: P(A)/P(B)=  0.075\n"
          ],
          "name": "stdout"
        }
      ]
    },
    {
      "metadata": {
        "id": "W6nUYyJ8khI2",
        "colab_type": "text"
      },
      "cell_type": "markdown",
      "source": [
        "**Soru 2: Kombinasyon**\n",
        "\n",
        "5 mühendis 4 teknisyen arasından oluşturulacak 4 kişilik bir araştırma ekibinde tek sayıda teknisyen bulunması istenmektedir. Buna göre bu araştırma ekibi kaç farklı şekilde oluşturulabilir?\n",
        "\n",
        "**Çözüm:**\n",
        "\n",
        "Durum 1:  Bir teknisyenin bulunması:\n",
        "\n",
        "  C(4,1)xC(5,3)= 4x10= 40\n",
        "\n",
        "Durum 2:  Üç teknisyenin bulunması:\n",
        "  \n",
        "  C(4,3)xC(5,1)= 4x5= 20\n",
        "  \n",
        "Tüm Sonuç:\n",
        "\n",
        "  40+20= 60 farklı şekilde oluşturulabilir.\n",
        "  \n",
        "**Açıklama:**\n",
        "\n",
        "C(n,r)= n! / r! * (n-r)!\n",
        "\n",
        "Araştırma ekibinde tek sayıda teknisyenin bulunması istendiği için ekipteki teknisyen sayısı 1 veya 3 olabilir. Ekipte 1 teknisyenin bulunması durumu  C(4,1)xC(5,3) kombinasyonu ile hesaplanır. Ekipte 3 teknisyenin bulunması durumu ise C(4,3)xC(5,1) kombinasyonu ile hesaplanır. Tüm durum bu iki durumun sonuçlarının toplanması ile bulunur."
      ]
    },
    {
      "metadata": {
        "id": "gu8KFHDdpg8V",
        "colab_type": "code",
        "colab": {
          "base_uri": "https://localhost:8080/",
          "height": 87
        },
        "outputId": "ee7bfece-4e1c-4b71-f401-060b2587ec43"
      },
      "cell_type": "code",
      "source": [
        "#fHesapla fonk. kendisine parametre olarak gönderilen sayının faktöriyelini rekursif şekilde hesaplar.\n",
        "\n",
        "def fHesapla(n):\n",
        "    if n==1:\n",
        "        return 1\n",
        "    else:\n",
        "        return n* fHesapla(n-1)\n",
        "      \n",
        "def kombinasyonIslemi(n,r):\n",
        "\n",
        "    durumBir= (fHesapla(n)/(fHesapla(1)*fHesapla(n-1)))*(fHesapla(r)/(fHesapla(3)*fHesapla(r-3)))  # Ekipte 1 teknisyenin bulunması durumunun hesaplanması\n",
        "    durumIki= (fHesapla(n)/(fHesapla(3)*fHesapla(n-3)))*(fHesapla(r)/(fHesapla(1)*fHesapla(r-1)))  # Ekipte 3 teknisyenin bulunması durumunun hesaplanması\n",
        "    \n",
        "    total=durumBir+durumIki \n",
        "    \n",
        "    return total\n",
        "\n",
        "print(\"Ekipte 1 teknisyenin bulunması: C(4,1)xC(5,3)= 40\")\n",
        "print(\"Ekipte 3 teknisyenin bulunması: C(4,3)xC(5,1)= 20\")\n",
        "\n",
        "print(\"\\nTüm Sonuç: C(4,1)xC(5,3)+C(4,3)xC(5,1)= \",kombinasyonIslemi(4,5))"
      ],
      "execution_count": 3,
      "outputs": [
        {
          "output_type": "stream",
          "text": [
            "Ekipte 1 teknisyenin bulunması: C(4,1)xC(5,3)= 40\n",
            "Ekipte 3 teknisyenin bulunması: C(4,3)xC(5,1)= 20\n",
            "\n",
            "Tüm Sonuç: C(4,1)xC(5,3)+C(4,3)xC(5,1)=  60.0\n"
          ],
          "name": "stdout"
        }
      ]
    }
  ]
}