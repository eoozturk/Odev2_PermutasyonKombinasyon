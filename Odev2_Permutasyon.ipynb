{
  "nbformat": 4,
  "nbformat_minor": 0,
  "metadata": {
    "colab": {
      "name": "Odev2_Permutasyon.ipynb",
      "version": "0.3.2",
      "provenance": [],
      "collapsed_sections": [],
      "include_colab_link": true
    },
    "kernelspec": {
      "name": "python3",
      "display_name": "Python 3"
    }
  },
  "cells": [
    {
      "cell_type": "markdown",
      "metadata": {
        "id": "view-in-github",
        "colab_type": "text"
      },
      "source": [
        "<a href=\"https://colab.research.google.com/github/eoozturk/Odev2_PermutasyonKombinasyon/blob/master/Odev2_Permutasyon.ipynb\" target=\"_parent\"><img src=\"https://colab.research.google.com/assets/colab-badge.svg\" alt=\"Open In Colab\"/></a>"
      ]
    },
    {
      "metadata": {
        "id": "lNht30cQgKYX",
        "colab_type": "text"
      },
      "cell_type": "markdown",
      "source": [
        "**Soru: Permütasyon**\n",
        "\n",
        "BERBERKERTENKELE kelimesindeki harfler yer değiştirilerek anlamlı veya anlamsız 16 harfden oluşan kelimeler oluşturulacaktır. Oluşturulacak olan bu kelimelerin E ile başlayıp R ile bitme olasılığı kaçtır?\n",
        "\n",
        "**Çözüm:**\n",
        "\n",
        "İstenilen Durum: E ve R harflerinin çıkarılması \n",
        "\n",
        "P(A)= 14! / (2!*5!*2!*2!)= 90810720\n",
        "\n",
        "Örnek Uzay: Tüm harflerin bulunması\n",
        "\n",
        "P(B)= 16! / (2!*6!*3!*2!)= 1210809600\n",
        "\n",
        "Olasılık Sonucu: P(A)/P(B)= 0.075\n",
        "\n",
        "**Açıklama:**\n",
        "\n",
        "Tekrarlı Permütasyon = N! / n1!n2!n3!....nn!\n",
        "\n",
        "Kelimelerin E harfi ile başlayıp R ile bitme durumu bu iki harfin çıkarılıp kalan 14 harfin tekrarlı permütasyonu ile  14!/2!x5!x2!x2! şeklinde hesaplanır. Daha sonra örnek uzay tüm harfleri kapsayacak şekilde 16!/2!x6!x3!x2! olarak hesaplanır. Soruda istenilen olasılık sonucu istenilen durumun (Kelimelerin E ile başlayıp R ile bitmesi) örnek uzaya bölünmesi ile bulunur."
      ]
    },
    {
      "metadata": {
        "id": "TwjvlRqOgJDd",
        "colab_type": "code",
        "outputId": "d5b01adf-017b-4e16-fa08-8e8e33c64fca",
        "colab": {
          "base_uri": "https://localhost:8080/",
          "height": 87
        }
      },
      "cell_type": "code",
      "source": [
        "#permHesapla fonk. kendisine parametre olarak gönderilen sayının faktöriyelini recursive biçimde hesaplar ve geri döndürür.\n",
        "\n",
        "def permHesapla(n):\n",
        "    if n==1:\n",
        "        return 1\n",
        "    else:\n",
        "        return n * permHesapla(n-1)\n",
        "\n",
        "permDurum= float(permHesapla(14)/(permHesapla(2)*permHesapla(5)*permHesapla(2)*permHesapla(2))) #İstenilen durum, E ve R harflerinin çıkarılması ile tekrarlı permütasyon şeklinde hesaplanır.\n",
        "\n",
        "permOrnekUzay= float(permHesapla(16)/(permHesapla(2)*permHesapla(6)*permHesapla(3)*permHesapla(2))) #Örnek Uzay tüm harflerle birlikte tekrarlı permütasyon şeklinde hesaplanır.\n",
        "\n",
        "olSonuc=float(permDurum/permOrnekUzay) #İstenilen durumun, Örnek Uzaya bölünmesi ile olasılık sonucu hesaplanır.\n",
        "\n",
        "print(\"İstenilen Durum: P(A)= 14! / (2!*5!*2!*2!)= \",permDurum)\n",
        "print(\"Örnek Uzay: P(B)= 16! / (2!*6!*3!*2!)= \",permOrnekUzay)\n",
        "\n",
        "print(\"\\nOlasılık Sonucu: P(A)/P(B)= \", olSonuc)\n"
      ],
      "execution_count": 1,
      "outputs": [
        {
          "output_type": "stream",
          "text": [
            "İstenilen Durum: P(A)= 14! / (2!*5!*2!*2!)=  90810720.0\n",
            "Örnek Uzay: P(B)= 16! / (2!*6!*3!*2!)=  1210809600.0\n",
            "\n",
            "Olasılık Sonucu: P(A)/P(B)=  0.075\n"
          ],
          "name": "stdout"
        }
      ]
    }
  ]
}