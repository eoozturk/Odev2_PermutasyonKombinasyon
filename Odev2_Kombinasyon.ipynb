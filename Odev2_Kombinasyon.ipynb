{
  "nbformat": 4,
  "nbformat_minor": 0,
  "metadata": {
    "colab": {
      "name": "Odev2_Kombinasyon.ipynb",
      "version": "0.3.2",
      "provenance": [],
      "collapsed_sections": [],
      "include_colab_link": true
    },
    "kernelspec": {
      "name": "python3",
      "display_name": "Python 3"
    }
  },
  "cells": [
    {
      "cell_type": "markdown",
      "metadata": {
        "id": "view-in-github",
        "colab_type": "text"
      },
      "source": [
        "<a href=\"https://colab.research.google.com/github/eoozturk/Odev2_PermutasyonKombinasyon/blob/master/Odev2_Kombinasyon.ipynb\" target=\"_parent\"><img src=\"https://colab.research.google.com/assets/colab-badge.svg\" alt=\"Open In Colab\"/></a>"
      ]
    },
    {
      "metadata": {
        "id": "8dzCvZox66Hq",
        "colab_type": "text"
      },
      "cell_type": "markdown",
      "source": [
        "**Soru: Kombinasyon**\n",
        "\n",
        "5 mühendis 4 teknisyen arasından oluşturulacak 4 kişilik bir araştırma ekibinde tek sayıda teknisyen bulunması istenmektedir. Buna göre bu araştırma ekibi kaç farklı şekilde oluşturulabilir?\n",
        "\n",
        "**Çözüm:**\n",
        "\n",
        "Durum 1:  Bir teknisyenin bulunması:\n",
        "\n",
        "  C(4,1)xC(5,3)= 4x10= 40\n",
        "\n",
        "Durum 2:  Üç teknisyenin bulunması:\n",
        "  \n",
        "  C(4,3)xC(5,1)= 4x5= 20\n",
        "  \n",
        "Tüm Sonuç:\n",
        "\n",
        "  40+20= 60 farklı şekilde oluşturulabilir.\n",
        "  \n",
        "**Açıklama:**\n",
        "\n",
        "C(n,r)= n! / r! * (n-r)!\n",
        "\n",
        "Araştırma ekibinde tek sayıda teknisyenin bulunması istendiği için ekipteki teknisyen sayısı 1 veya 3 olabilir. Ekipte 1 teknisyenin bulunması durumu  C(4,1)xC(5,3) kombinasyonu ile hesaplanır. Ekipte 3 teknisyenin bulunması durumu ise C(4,3)xC(5,1) kombinasyonu ile hesaplanır. Tüm durum bu iki durumun sonuçlarının toplanması ile bulunur."
      ]
    },
    {
      "metadata": {
        "id": "UKLtVSQq620S",
        "colab_type": "code",
        "outputId": "a37cf347-dee5-4533-ddaf-b62575035b33",
        "colab": {
          "base_uri": "https://localhost:8080/",
          "height": 87
        }
      },
      "cell_type": "code",
      "source": [
        "# Emre Ozan Öztürk\n",
        "\n",
        "#fHesapla fonk. kendisine parametre olarak gönderilen sayının faktöriyelini rekursif şekilde hesaplar.\n",
        "def fHesapla(n):\n",
        "    if n==1:\n",
        "        return 1\n",
        "    else:\n",
        "        return n* fHesapla(n-1)\n",
        "      \n",
        "def kombinasyonIslemi(n,r):\n",
        "\n",
        "    durumBir= (fHesapla(n)/(fHesapla(1)*fHesapla(n-1)))*(fHesapla(r)/(fHesapla(3)*fHesapla(r-3)))  # Ekipte 1 teknisyenin bulunması durumunun hesaplanması\n",
        "    \n",
        "    durumIki= (fHesapla(n)/(fHesapla(3)*fHesapla(n-3)))*(fHesapla(r)/(fHesapla(1)*fHesapla(r-1)))  # Ekipte 3 teknisyenin bulunması durumunun hesaplanması\n",
        "    \n",
        "    total=durumBir+durumIki # Her iki durumun toplanarak sonucun bulunması\n",
        "    \n",
        "    return total\n",
        "\n",
        "print(\"Ekipte 1 teknisyenin bulunması: C(4,1)xC(5,3)= 40\")\n",
        "print(\"Ekipte 3 teknisyenin bulunması: C(4,3)xC(5,1)= 20\")\n",
        "print(\"\\nAraştırma ekibinde tek sayıda teknisyen bulunması: C(4,1)xC(5,3)+C(4,3)xC(5,1)= \",kombinasyonIslemi(4,5))"
      ],
      "execution_count": 2,
      "outputs": [
        {
          "output_type": "stream",
          "text": [
            "Ekipte 1 teknisyenin bulunması: C(4,1)xC(5,3)= 40\n",
            "Ekipte 3 teknisyenin bulunması: C(4,3)xC(5,1)= 20\n",
            "\n",
            "Araştırma ekibinde tek sayıda teknisyen bulunması: C(4,1)xC(5,3)+C(4,3)xC(5,1)=  60.0\n"
          ],
          "name": "stdout"
        }
      ]
    }
  ]
}